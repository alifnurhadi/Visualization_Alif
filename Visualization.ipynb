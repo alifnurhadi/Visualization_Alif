{
 "cells": [
  {
   "cell_type": "code",
   "execution_count": 1,
   "metadata": {},
   "outputs": [],
   "source": [
    "# !git clone https://github.com/alifnurhadi/Visualization_Alif.git"
   ]
  },
  {
   "cell_type": "markdown",
   "metadata": {},
   "source": [
    "# Memindahkan file download ke dalam folder ini"
   ]
  },
  {
   "cell_type": "code",
   "execution_count": 2,
   "metadata": {},
   "outputs": [],
   "source": [
    "# !move \"C:\\Users\\alifn\\Downloads\\UGREEN Official Store - Wawasan Pembeli - 20241001 - 20241031.xlsx\" ."
   ]
  },
  {
   "cell_type": "code",
   "execution_count": 3,
   "metadata": {},
   "outputs": [],
   "source": [
    "import polars as pl"
   ]
  },
  {
   "cell_type": "code",
   "execution_count": 4,
   "metadata": {},
   "outputs": [],
   "source": [
    "table1 = {\n",
    "    'skip_rows':1,\n",
    "    'n_rows':1\n",
    "}\n",
    "\n",
    "table2 = {\n",
    "    'skip_rows':5\n",
    "}\n",
    "\n"
   ]
  },
  {
   "cell_type": "code",
   "execution_count": 5,
   "metadata": {},
   "outputs": [
    {
     "data": {
      "text/html": [
       "<div><style>\n",
       ".dataframe > thead > tr,\n",
       ".dataframe > tbody > tr {\n",
       "  text-align: right;\n",
       "  white-space: pre-wrap;\n",
       "}\n",
       "</style>\n",
       "<small>shape: (31, 14)</small><table border=\"1\" class=\"dataframe\"><thead><tr><th>Waktu</th><th>Pembeli</th><th>Laki-Laki</th><th>Perempuan</th><th>Tidak disebutkan</th><th>Pembeli baru</th><th>Pembeli reguler</th><th>Pembeli setia</th><th>&lt; 17 tahun</th><th>18 - 23 tahun</th><th>24 - 34 tahun</th><th>35 - 44 tahun</th><th>&gt; 45 tahun</th><th>Followers</th></tr><tr><td>date</td><td>i64</td><td>i64</td><td>i64</td><td>i64</td><td>i64</td><td>i64</td><td>i64</td><td>i64</td><td>i64</td><td>i64</td><td>i64</td><td>i64</td><td>i64</td></tr></thead><tbody><tr><td>2024-10-01</td><td>959</td><td>557</td><td>122</td><td>280</td><td>751</td><td>149</td><td>59</td><td>4</td><td>65</td><td>426</td><td>199</td><td>103</td><td>43753</td></tr><tr><td>2024-10-02</td><td>899</td><td>532</td><td>119</td><td>248</td><td>704</td><td>140</td><td>55</td><td>2</td><td>68</td><td>389</td><td>177</td><td>114</td><td>43846</td></tr><tr><td>2024-10-03</td><td>759</td><td>454</td><td>78</td><td>227</td><td>572</td><td>136</td><td>51</td><td>2</td><td>59</td><td>322</td><td>137</td><td>99</td><td>43939</td></tr><tr><td>2024-10-04</td><td>707</td><td>436</td><td>87</td><td>184</td><td>540</td><td>116</td><td>51</td><td>3</td><td>49</td><td>298</td><td>159</td><td>88</td><td>44012</td></tr><tr><td>2024-10-05</td><td>528</td><td>311</td><td>49</td><td>168</td><td>409</td><td>90</td><td>29</td><td>2</td><td>42</td><td>203</td><td>109</td><td>83</td><td>44070</td></tr><tr><td>&hellip;</td><td>&hellip;</td><td>&hellip;</td><td>&hellip;</td><td>&hellip;</td><td>&hellip;</td><td>&hellip;</td><td>&hellip;</td><td>&hellip;</td><td>&hellip;</td><td>&hellip;</td><td>&hellip;</td><td>&hellip;</td><td>&hellip;</td></tr><tr><td>2024-10-27</td><td>484</td><td>310</td><td>48</td><td>126</td><td>383</td><td>66</td><td>35</td><td>4</td><td>33</td><td>215</td><td>99</td><td>56</td><td>45879</td></tr><tr><td>2024-10-28</td><td>703</td><td>444</td><td>66</td><td>193</td><td>526</td><td>125</td><td>52</td><td>2</td><td>37</td><td>318</td><td>145</td><td>81</td><td>45964</td></tr><tr><td>2024-10-29</td><td>744</td><td>449</td><td>88</td><td>207</td><td>541</td><td>142</td><td>61</td><td>1</td><td>55</td><td>330</td><td>132</td><td>98</td><td>46035</td></tr><tr><td>2024-10-30</td><td>604</td><td>349</td><td>82</td><td>173</td><td>458</td><td>101</td><td>45</td><td>3</td><td>47</td><td>244</td><td>122</td><td>80</td><td>46107</td></tr><tr><td>2024-10-31</td><td>595</td><td>379</td><td>69</td><td>147</td><td>446</td><td>106</td><td>43</td><td>3</td><td>32</td><td>275</td><td>125</td><td>71</td><td>46168</td></tr></tbody></table></div>"
      ],
      "text/plain": [
       "shape: (31, 14)\n",
       "┌────────────┬─────────┬───────────┬───────────┬───┬─────────┬─────────┬───────┬───────────┐\n",
       "│ Waktu      ┆ Pembeli ┆ Laki-Laki ┆ Perempuan ┆ … ┆ 24 - 34 ┆ 35 - 44 ┆ > 45  ┆ Followers │\n",
       "│ ---        ┆ ---     ┆ ---       ┆ ---       ┆   ┆ tahun   ┆ tahun   ┆ tahun ┆ ---       │\n",
       "│ date       ┆ i64     ┆ i64       ┆ i64       ┆   ┆ ---     ┆ ---     ┆ ---   ┆ i64       │\n",
       "│            ┆         ┆           ┆           ┆   ┆ i64     ┆ i64     ┆ i64   ┆           │\n",
       "╞════════════╪═════════╪═══════════╪═══════════╪═══╪═════════╪═════════╪═══════╪═══════════╡\n",
       "│ 2024-10-01 ┆ 959     ┆ 557       ┆ 122       ┆ … ┆ 426     ┆ 199     ┆ 103   ┆ 43753     │\n",
       "│ 2024-10-02 ┆ 899     ┆ 532       ┆ 119       ┆ … ┆ 389     ┆ 177     ┆ 114   ┆ 43846     │\n",
       "│ 2024-10-03 ┆ 759     ┆ 454       ┆ 78        ┆ … ┆ 322     ┆ 137     ┆ 99    ┆ 43939     │\n",
       "│ 2024-10-04 ┆ 707     ┆ 436       ┆ 87        ┆ … ┆ 298     ┆ 159     ┆ 88    ┆ 44012     │\n",
       "│ 2024-10-05 ┆ 528     ┆ 311       ┆ 49        ┆ … ┆ 203     ┆ 109     ┆ 83    ┆ 44070     │\n",
       "│ …          ┆ …       ┆ …         ┆ …         ┆ … ┆ …       ┆ …       ┆ …     ┆ …         │\n",
       "│ 2024-10-27 ┆ 484     ┆ 310       ┆ 48        ┆ … ┆ 215     ┆ 99      ┆ 56    ┆ 45879     │\n",
       "│ 2024-10-28 ┆ 703     ┆ 444       ┆ 66        ┆ … ┆ 318     ┆ 145     ┆ 81    ┆ 45964     │\n",
       "│ 2024-10-29 ┆ 744     ┆ 449       ┆ 88        ┆ … ┆ 330     ┆ 132     ┆ 98    ┆ 46035     │\n",
       "│ 2024-10-30 ┆ 604     ┆ 349       ┆ 82        ┆ … ┆ 244     ┆ 122     ┆ 80    ┆ 46107     │\n",
       "│ 2024-10-31 ┆ 595     ┆ 379       ┆ 69        ┆ … ┆ 275     ┆ 125     ┆ 71    ┆ 46168     │\n",
       "└────────────┴─────────┴───────────┴───────────┴───┴─────────┴─────────┴───────┴───────────┘"
      ]
     },
     "execution_count": 5,
     "metadata": {},
     "output_type": "execute_result"
    }
   ],
   "source": [
    "harian = pl.read_csv('Ugreen.csv')\n",
    "harian = harian.with_columns([\n",
    "    pl.col('Followers').str.replace(pattern=',',value='').cast(pl.Int64),\n",
    "    pl.col(['Pembeli','Pembeli baru']).str.replace(pattern=',',value='').cast(pl.Int64),\n",
    "    pl.col('Waktu').str.strptime(pl.Date,format='%d/%m/%Y')\n",
    "    ])\n",
    "harian"
   ]
  },
  {
   "cell_type": "code",
   "execution_count": 6,
   "metadata": {},
   "outputs": [
    {
     "data": {
      "application/javascript": "(function(root) {\n  function now() {\n    return new Date();\n  }\n\n  var force = true;\n  var py_version = '3.4.3'.replace('rc', '-rc.').replace('.dev', '-dev.');\n  var reloading = false;\n  var Bokeh = root.Bokeh;\n\n  if (typeof (root._bokeh_timeout) === \"undefined\" || force) {\n    root._bokeh_timeout = Date.now() + 5000;\n    root._bokeh_failed_load = false;\n  }\n\n  function run_callbacks() {\n    try {\n      root._bokeh_onload_callbacks.forEach(function(callback) {\n        if (callback != null)\n          callback();\n      });\n    } finally {\n      delete root._bokeh_onload_callbacks;\n    }\n    console.debug(\"Bokeh: all callbacks have finished\");\n  }\n\n  function load_libs(css_urls, js_urls, js_modules, js_exports, callback) {\n    if (css_urls == null) css_urls = [];\n    if (js_urls == null) js_urls = [];\n    if (js_modules == null) js_modules = [];\n    if (js_exports == null) js_exports = {};\n\n    root._bokeh_onload_callbacks.push(callback);\n\n    if (root._bokeh_is_loading > 0) {\n      console.debug(\"Bokeh: BokehJS is being loaded, scheduling callback at\", now());\n      return null;\n    }\n    if (js_urls.length === 0 && js_modules.length === 0 && Object.keys(js_exports).length === 0) {\n      run_callbacks();\n      return null;\n    }\n    if (!reloading) {\n      console.debug(\"Bokeh: BokehJS not loaded, scheduling load and callback at\", now());\n    }\n\n    function on_load() {\n      root._bokeh_is_loading--;\n      if (root._bokeh_is_loading === 0) {\n        console.debug(\"Bokeh: all BokehJS libraries/stylesheets loaded\");\n        run_callbacks()\n      }\n    }\n    window._bokeh_on_load = on_load\n\n    function on_error() {\n      console.error(\"failed to load \" + url);\n    }\n\n    var skip = [];\n    if (window.requirejs) {\n      window.requirejs.config({'packages': {}, 'paths': {}, 'shim': {}});\n      root._bokeh_is_loading = css_urls.length + 0;\n    } else {\n      root._bokeh_is_loading = css_urls.length + js_urls.length + js_modules.length + Object.keys(js_exports).length;\n    }\n\n    var existing_stylesheets = []\n    var links = document.getElementsByTagName('link')\n    for (var i = 0; i < links.length; i++) {\n      var link = links[i]\n      if (link.href != null) {\n\texisting_stylesheets.push(link.href)\n      }\n    }\n    for (var i = 0; i < css_urls.length; i++) {\n      var url = css_urls[i];\n      if (existing_stylesheets.indexOf(url) !== -1) {\n\ton_load()\n\tcontinue;\n      }\n      const element = document.createElement(\"link\");\n      element.onload = on_load;\n      element.onerror = on_error;\n      element.rel = \"stylesheet\";\n      element.type = \"text/css\";\n      element.href = url;\n      console.debug(\"Bokeh: injecting link tag for BokehJS stylesheet: \", url);\n      document.body.appendChild(element);\n    }    var existing_scripts = []\n    var scripts = document.getElementsByTagName('script')\n    for (var i = 0; i < scripts.length; i++) {\n      var script = scripts[i]\n      if (script.src != null) {\n\texisting_scripts.push(script.src)\n      }\n    }\n    for (var i = 0; i < js_urls.length; i++) {\n      var url = js_urls[i];\n      if (skip.indexOf(url) !== -1 || existing_scripts.indexOf(url) !== -1) {\n\tif (!window.requirejs) {\n\t  on_load();\n\t}\n\tcontinue;\n      }\n      var element = document.createElement('script');\n      element.onload = on_load;\n      element.onerror = on_error;\n      element.async = false;\n      element.src = url;\n      console.debug(\"Bokeh: injecting script tag for BokehJS library: \", url);\n      document.head.appendChild(element);\n    }\n    for (var i = 0; i < js_modules.length; i++) {\n      var url = js_modules[i];\n      if (skip.indexOf(url) !== -1 || existing_scripts.indexOf(url) !== -1) {\n\tif (!window.requirejs) {\n\t  on_load();\n\t}\n\tcontinue;\n      }\n      var element = document.createElement('script');\n      element.onload = on_load;\n      element.onerror = on_error;\n      element.async = false;\n      element.src = url;\n      element.type = \"module\";\n      console.debug(\"Bokeh: injecting script tag for BokehJS library: \", url);\n      document.head.appendChild(element);\n    }\n    for (const name in js_exports) {\n      var url = js_exports[name];\n      if (skip.indexOf(url) >= 0 || root[name] != null) {\n\tif (!window.requirejs) {\n\t  on_load();\n\t}\n\tcontinue;\n      }\n      var element = document.createElement('script');\n      element.onerror = on_error;\n      element.async = false;\n      element.type = \"module\";\n      console.debug(\"Bokeh: injecting script tag for BokehJS library: \", url);\n      element.textContent = `\n      import ${name} from \"${url}\"\n      window.${name} = ${name}\n      window._bokeh_on_load()\n      `\n      document.head.appendChild(element);\n    }\n    if (!js_urls.length && !js_modules.length) {\n      on_load()\n    }\n  };\n\n  function inject_raw_css(css) {\n    const element = document.createElement(\"style\");\n    element.appendChild(document.createTextNode(css));\n    document.body.appendChild(element);\n  }\n\n  var js_urls = [\"https://cdn.bokeh.org/bokeh/release/bokeh-3.4.3.min.js\", \"https://cdn.bokeh.org/bokeh/release/bokeh-gl-3.4.3.min.js\", \"https://cdn.bokeh.org/bokeh/release/bokeh-widgets-3.4.3.min.js\", \"https://cdn.bokeh.org/bokeh/release/bokeh-tables-3.4.3.min.js\", \"https://cdn.holoviz.org/panel/1.4.5/dist/panel.min.js\"];\n  var js_modules = [];\n  var js_exports = {};\n  var css_urls = [];\n  var inline_js = [    function(Bokeh) {\n      Bokeh.set_log_level(\"info\");\n    },\nfunction(Bokeh) {} // ensure no trailing comma for IE\n  ];\n\n  function run_inline_js() {\n    if ((root.Bokeh !== undefined) || (force === true)) {\n      for (var i = 0; i < inline_js.length; i++) {\n\ttry {\n          inline_js[i].call(root, root.Bokeh);\n\t} catch(e) {\n\t  if (!reloading) {\n\t    throw e;\n\t  }\n\t}\n      }\n      // Cache old bokeh versions\n      if (Bokeh != undefined && !reloading) {\n\tvar NewBokeh = root.Bokeh;\n\tif (Bokeh.versions === undefined) {\n\t  Bokeh.versions = new Map();\n\t}\n\tif (NewBokeh.version !== Bokeh.version) {\n\t  Bokeh.versions.set(NewBokeh.version, NewBokeh)\n\t}\n\troot.Bokeh = Bokeh;\n      }} else if (Date.now() < root._bokeh_timeout) {\n      setTimeout(run_inline_js, 100);\n    } else if (!root._bokeh_failed_load) {\n      console.log(\"Bokeh: BokehJS failed to load within specified timeout.\");\n      root._bokeh_failed_load = true;\n    }\n    root._bokeh_is_initializing = false\n  }\n\n  function load_or_wait() {\n    // Implement a backoff loop that tries to ensure we do not load multiple\n    // versions of Bokeh and its dependencies at the same time.\n    // In recent versions we use the root._bokeh_is_initializing flag\n    // to determine whether there is an ongoing attempt to initialize\n    // bokeh, however for backward compatibility we also try to ensure\n    // that we do not start loading a newer (Panel>=1.0 and Bokeh>3) version\n    // before older versions are fully initialized.\n    if (root._bokeh_is_initializing && Date.now() > root._bokeh_timeout) {\n      root._bokeh_is_initializing = false;\n      root._bokeh_onload_callbacks = undefined;\n      console.log(\"Bokeh: BokehJS was loaded multiple times but one version failed to initialize.\");\n      load_or_wait();\n    } else if (root._bokeh_is_initializing || (typeof root._bokeh_is_initializing === \"undefined\" && root._bokeh_onload_callbacks !== undefined)) {\n      setTimeout(load_or_wait, 100);\n    } else {\n      root._bokeh_is_initializing = true\n      root._bokeh_onload_callbacks = []\n      var bokeh_loaded = Bokeh != null && (Bokeh.version === py_version || (Bokeh.versions !== undefined && Bokeh.versions.has(py_version)));\n      if (!reloading && !bokeh_loaded) {\n\troot.Bokeh = undefined;\n      }\n      load_libs(css_urls, js_urls, js_modules, js_exports, function() {\n\tconsole.debug(\"Bokeh: BokehJS plotting callback run at\", now());\n\trun_inline_js();\n      });\n    }\n  }\n  // Give older versions of the autoload script a head-start to ensure\n  // they initialize before we start loading newer version.\n  setTimeout(load_or_wait, 100)\n}(window));",
      "application/vnd.holoviews_load.v0+json": ""
     },
     "metadata": {},
     "output_type": "display_data"
    },
    {
     "data": {
      "application/javascript": "\nif ((window.PyViz === undefined) || (window.PyViz instanceof HTMLElement)) {\n  window.PyViz = {comms: {}, comm_status:{}, kernels:{}, receivers: {}, plot_index: []}\n}\n\n\n    function JupyterCommManager() {\n    }\n\n    JupyterCommManager.prototype.register_target = function(plot_id, comm_id, msg_handler) {\n      if (window.comm_manager || ((window.Jupyter !== undefined) && (Jupyter.notebook.kernel != null))) {\n        var comm_manager = window.comm_manager || Jupyter.notebook.kernel.comm_manager;\n        comm_manager.register_target(comm_id, function(comm) {\n          comm.on_msg(msg_handler);\n        });\n      } else if ((plot_id in window.PyViz.kernels) && (window.PyViz.kernels[plot_id])) {\n        window.PyViz.kernels[plot_id].registerCommTarget(comm_id, function(comm) {\n          comm.onMsg = msg_handler;\n        });\n      } else if (typeof google != 'undefined' && google.colab.kernel != null) {\n        google.colab.kernel.comms.registerTarget(comm_id, (comm) => {\n          var messages = comm.messages[Symbol.asyncIterator]();\n          function processIteratorResult(result) {\n            var message = result.value;\n            console.log(message)\n            var content = {data: message.data, comm_id};\n            var buffers = []\n            for (var buffer of message.buffers || []) {\n              buffers.push(new DataView(buffer))\n            }\n            var metadata = message.metadata || {};\n            var msg = {content, buffers, metadata}\n            msg_handler(msg);\n            return messages.next().then(processIteratorResult);\n          }\n          return messages.next().then(processIteratorResult);\n        })\n      }\n    }\n\n    JupyterCommManager.prototype.get_client_comm = function(plot_id, comm_id, msg_handler) {\n      if (comm_id in window.PyViz.comms) {\n        return window.PyViz.comms[comm_id];\n      } else if (window.comm_manager || ((window.Jupyter !== undefined) && (Jupyter.notebook.kernel != null))) {\n        var comm_manager = window.comm_manager || Jupyter.notebook.kernel.comm_manager;\n        var comm = comm_manager.new_comm(comm_id, {}, {}, {}, comm_id);\n        if (msg_handler) {\n          comm.on_msg(msg_handler);\n        }\n      } else if ((plot_id in window.PyViz.kernels) && (window.PyViz.kernels[plot_id])) {\n        var comm = window.PyViz.kernels[plot_id].connectToComm(comm_id);\n        comm.open();\n        if (msg_handler) {\n          comm.onMsg = msg_handler;\n        }\n      } else if (typeof google != 'undefined' && google.colab.kernel != null) {\n        var comm_promise = google.colab.kernel.comms.open(comm_id)\n        comm_promise.then((comm) => {\n          window.PyViz.comms[comm_id] = comm;\n          if (msg_handler) {\n            var messages = comm.messages[Symbol.asyncIterator]();\n            function processIteratorResult(result) {\n              var message = result.value;\n              var content = {data: message.data};\n              var metadata = message.metadata || {comm_id};\n              var msg = {content, metadata}\n              msg_handler(msg);\n              return messages.next().then(processIteratorResult);\n            }\n            return messages.next().then(processIteratorResult);\n          }\n        }) \n        var sendClosure = (data, metadata, buffers, disposeOnDone) => {\n          return comm_promise.then((comm) => {\n            comm.send(data, metadata, buffers, disposeOnDone);\n          });\n        };\n        var comm = {\n          send: sendClosure\n        };\n      }\n      window.PyViz.comms[comm_id] = comm;\n      return comm;\n    }\n    window.PyViz.comm_manager = new JupyterCommManager();\n    \n\n\nvar JS_MIME_TYPE = 'application/javascript';\nvar HTML_MIME_TYPE = 'text/html';\nvar EXEC_MIME_TYPE = 'application/vnd.holoviews_exec.v0+json';\nvar CLASS_NAME = 'output';\n\n/**\n * Render data to the DOM node\n */\nfunction render(props, node) {\n  var div = document.createElement(\"div\");\n  var script = document.createElement(\"script\");\n  node.appendChild(div);\n  node.appendChild(script);\n}\n\n/**\n * Handle when a new output is added\n */\nfunction handle_add_output(event, handle) {\n  var output_area = handle.output_area;\n  var output = handle.output;\n  if ((output.data == undefined) || (!output.data.hasOwnProperty(EXEC_MIME_TYPE))) {\n    return\n  }\n  var id = output.metadata[EXEC_MIME_TYPE][\"id\"];\n  var toinsert = output_area.element.find(\".\" + CLASS_NAME.split(' ')[0]);\n  if (id !== undefined) {\n    var nchildren = toinsert.length;\n    var html_node = toinsert[nchildren-1].children[0];\n    html_node.innerHTML = output.data[HTML_MIME_TYPE];\n    var scripts = [];\n    var nodelist = html_node.querySelectorAll(\"script\");\n    for (var i in nodelist) {\n      if (nodelist.hasOwnProperty(i)) {\n        scripts.push(nodelist[i])\n      }\n    }\n\n    scripts.forEach( function (oldScript) {\n      var newScript = document.createElement(\"script\");\n      var attrs = [];\n      var nodemap = oldScript.attributes;\n      for (var j in nodemap) {\n        if (nodemap.hasOwnProperty(j)) {\n          attrs.push(nodemap[j])\n        }\n      }\n      attrs.forEach(function(attr) { newScript.setAttribute(attr.name, attr.value) });\n      newScript.appendChild(document.createTextNode(oldScript.innerHTML));\n      oldScript.parentNode.replaceChild(newScript, oldScript);\n    });\n    if (JS_MIME_TYPE in output.data) {\n      toinsert[nchildren-1].children[1].textContent = output.data[JS_MIME_TYPE];\n    }\n    output_area._hv_plot_id = id;\n    if ((window.Bokeh !== undefined) && (id in Bokeh.index)) {\n      window.PyViz.plot_index[id] = Bokeh.index[id];\n    } else {\n      window.PyViz.plot_index[id] = null;\n    }\n  } else if (output.metadata[EXEC_MIME_TYPE][\"server_id\"] !== undefined) {\n    var bk_div = document.createElement(\"div\");\n    bk_div.innerHTML = output.data[HTML_MIME_TYPE];\n    var script_attrs = bk_div.children[0].attributes;\n    for (var i = 0; i < script_attrs.length; i++) {\n      toinsert[toinsert.length - 1].childNodes[1].setAttribute(script_attrs[i].name, script_attrs[i].value);\n    }\n    // store reference to server id on output_area\n    output_area._bokeh_server_id = output.metadata[EXEC_MIME_TYPE][\"server_id\"];\n  }\n}\n\n/**\n * Handle when an output is cleared or removed\n */\nfunction handle_clear_output(event, handle) {\n  var id = handle.cell.output_area._hv_plot_id;\n  var server_id = handle.cell.output_area._bokeh_server_id;\n  if (((id === undefined) || !(id in PyViz.plot_index)) && (server_id !== undefined)) { return; }\n  var comm = window.PyViz.comm_manager.get_client_comm(\"hv-extension-comm\", \"hv-extension-comm\", function () {});\n  if (server_id !== null) {\n    comm.send({event_type: 'server_delete', 'id': server_id});\n    return;\n  } else if (comm !== null) {\n    comm.send({event_type: 'delete', 'id': id});\n  }\n  delete PyViz.plot_index[id];\n  if ((window.Bokeh !== undefined) & (id in window.Bokeh.index)) {\n    var doc = window.Bokeh.index[id].model.document\n    doc.clear();\n    const i = window.Bokeh.documents.indexOf(doc);\n    if (i > -1) {\n      window.Bokeh.documents.splice(i, 1);\n    }\n  }\n}\n\n/**\n * Handle kernel restart event\n */\nfunction handle_kernel_cleanup(event, handle) {\n  delete PyViz.comms[\"hv-extension-comm\"];\n  window.PyViz.plot_index = {}\n}\n\n/**\n * Handle update_display_data messages\n */\nfunction handle_update_output(event, handle) {\n  handle_clear_output(event, {cell: {output_area: handle.output_area}})\n  handle_add_output(event, handle)\n}\n\nfunction register_renderer(events, OutputArea) {\n  function append_mime(data, metadata, element) {\n    // create a DOM node to render to\n    var toinsert = this.create_output_subarea(\n    metadata,\n    CLASS_NAME,\n    EXEC_MIME_TYPE\n    );\n    this.keyboard_manager.register_events(toinsert);\n    // Render to node\n    var props = {data: data, metadata: metadata[EXEC_MIME_TYPE]};\n    render(props, toinsert[0]);\n    element.append(toinsert);\n    return toinsert\n  }\n\n  events.on('output_added.OutputArea', handle_add_output);\n  events.on('output_updated.OutputArea', handle_update_output);\n  events.on('clear_output.CodeCell', handle_clear_output);\n  events.on('delete.Cell', handle_clear_output);\n  events.on('kernel_ready.Kernel', handle_kernel_cleanup);\n\n  OutputArea.prototype.register_mime_type(EXEC_MIME_TYPE, append_mime, {\n    safe: true,\n    index: 0\n  });\n}\n\nif (window.Jupyter !== undefined) {\n  try {\n    var events = require('base/js/events');\n    var OutputArea = require('notebook/js/outputarea').OutputArea;\n    if (OutputArea.prototype.mime_types().indexOf(EXEC_MIME_TYPE) == -1) {\n      register_renderer(events, OutputArea);\n    }\n  } catch(err) {\n  }\n}\n",
      "application/vnd.holoviews_load.v0+json": ""
     },
     "metadata": {},
     "output_type": "display_data"
    },
    {
     "data": {
      "text/html": [
       "<style>*[data-root-id],\n",
       "*[data-root-id] > * {\n",
       "  box-sizing: border-box;\n",
       "  font-family: var(--jp-ui-font-family);\n",
       "  font-size: var(--jp-ui-font-size1);\n",
       "  color: var(--vscode-editor-foreground, var(--jp-ui-font-color1));\n",
       "}\n",
       "\n",
       "/* Override VSCode background color */\n",
       ".cell-output-ipywidget-background:has(\n",
       "    > .cell-output-ipywidget-background > .lm-Widget > *[data-root-id]\n",
       "  ),\n",
       ".cell-output-ipywidget-background:has(> .lm-Widget > *[data-root-id]) {\n",
       "  background-color: transparent !important;\n",
       "}\n",
       "</style>"
      ]
     },
     "metadata": {},
     "output_type": "display_data"
    },
    {
     "data": {
      "application/vnd.holoviews_exec.v0+json": "",
      "text/html": [
       "<div id='4e6698ef-15ab-44ea-b310-63dbd064546b'>\n",
       "  <div id=\"c434ecc7-59c0-4077-b0e7-a9e64f2b270b\" data-root-id=\"4e6698ef-15ab-44ea-b310-63dbd064546b\" style=\"display: contents;\"></div>\n",
       "</div>\n",
       "<script type=\"application/javascript\">(function(root) {\n",
       "  var docs_json = {\"033f8c14-af7b-415f-ae9a-842cf7df5501\":{\"version\":\"3.4.3\",\"title\":\"Bokeh Application\",\"roots\":[{\"type\":\"object\",\"name\":\"panel.models.browser.BrowserInfo\",\"id\":\"4e6698ef-15ab-44ea-b310-63dbd064546b\"},{\"type\":\"object\",\"name\":\"panel.models.comm_manager.CommManager\",\"id\":\"13225d6b-5fc2-4e3f-b95d-82fd71afd1b2\",\"attributes\":{\"plot_id\":\"4e6698ef-15ab-44ea-b310-63dbd064546b\",\"comm_id\":\"401141f54bf4460c8bcff7bc189a168f\",\"client_comm_id\":\"a13f4f1c09894da1a93dd921b72e4d03\"}}],\"defs\":[{\"type\":\"model\",\"name\":\"ReactiveHTML1\"},{\"type\":\"model\",\"name\":\"FlexBox1\",\"properties\":[{\"name\":\"align_content\",\"kind\":\"Any\",\"default\":\"flex-start\"},{\"name\":\"align_items\",\"kind\":\"Any\",\"default\":\"flex-start\"},{\"name\":\"flex_direction\",\"kind\":\"Any\",\"default\":\"row\"},{\"name\":\"flex_wrap\",\"kind\":\"Any\",\"default\":\"wrap\"},{\"name\":\"gap\",\"kind\":\"Any\",\"default\":\"\"},{\"name\":\"justify_content\",\"kind\":\"Any\",\"default\":\"flex-start\"}]},{\"type\":\"model\",\"name\":\"FloatPanel1\",\"properties\":[{\"name\":\"config\",\"kind\":\"Any\",\"default\":{\"type\":\"map\"}},{\"name\":\"contained\",\"kind\":\"Any\",\"default\":true},{\"name\":\"position\",\"kind\":\"Any\",\"default\":\"right-top\"},{\"name\":\"offsetx\",\"kind\":\"Any\",\"default\":null},{\"name\":\"offsety\",\"kind\":\"Any\",\"default\":null},{\"name\":\"theme\",\"kind\":\"Any\",\"default\":\"primary\"},{\"name\":\"status\",\"kind\":\"Any\",\"default\":\"normalized\"}]},{\"type\":\"model\",\"name\":\"GridStack1\",\"properties\":[{\"name\":\"mode\",\"kind\":\"Any\",\"default\":\"warn\"},{\"name\":\"ncols\",\"kind\":\"Any\",\"default\":null},{\"name\":\"nrows\",\"kind\":\"Any\",\"default\":null},{\"name\":\"allow_resize\",\"kind\":\"Any\",\"default\":true},{\"name\":\"allow_drag\",\"kind\":\"Any\",\"default\":true},{\"name\":\"state\",\"kind\":\"Any\",\"default\":[]}]},{\"type\":\"model\",\"name\":\"drag1\",\"properties\":[{\"name\":\"slider_width\",\"kind\":\"Any\",\"default\":5},{\"name\":\"slider_color\",\"kind\":\"Any\",\"default\":\"black\"},{\"name\":\"value\",\"kind\":\"Any\",\"default\":50}]},{\"type\":\"model\",\"name\":\"click1\",\"properties\":[{\"name\":\"terminal_output\",\"kind\":\"Any\",\"default\":\"\"},{\"name\":\"debug_name\",\"kind\":\"Any\",\"default\":\"\"},{\"name\":\"clears\",\"kind\":\"Any\",\"default\":0}]},{\"type\":\"model\",\"name\":\"FastWrapper1\",\"properties\":[{\"name\":\"object\",\"kind\":\"Any\",\"default\":null},{\"name\":\"style\",\"kind\":\"Any\",\"default\":null}]},{\"type\":\"model\",\"name\":\"NotificationAreaBase1\",\"properties\":[{\"name\":\"js_events\",\"kind\":\"Any\",\"default\":{\"type\":\"map\"}},{\"name\":\"position\",\"kind\":\"Any\",\"default\":\"bottom-right\"},{\"name\":\"_clear\",\"kind\":\"Any\",\"default\":0}]},{\"type\":\"model\",\"name\":\"NotificationArea1\",\"properties\":[{\"name\":\"js_events\",\"kind\":\"Any\",\"default\":{\"type\":\"map\"}},{\"name\":\"notifications\",\"kind\":\"Any\",\"default\":[]},{\"name\":\"position\",\"kind\":\"Any\",\"default\":\"bottom-right\"},{\"name\":\"_clear\",\"kind\":\"Any\",\"default\":0},{\"name\":\"types\",\"kind\":\"Any\",\"default\":[{\"type\":\"map\",\"entries\":[[\"type\",\"warning\"],[\"background\",\"#ffc107\"],[\"icon\",{\"type\":\"map\",\"entries\":[[\"className\",\"fas fa-exclamation-triangle\"],[\"tagName\",\"i\"],[\"color\",\"white\"]]}]]},{\"type\":\"map\",\"entries\":[[\"type\",\"info\"],[\"background\",\"#007bff\"],[\"icon\",{\"type\":\"map\",\"entries\":[[\"className\",\"fas fa-info-circle\"],[\"tagName\",\"i\"],[\"color\",\"white\"]]}]]}]}]},{\"type\":\"model\",\"name\":\"Notification\",\"properties\":[{\"name\":\"background\",\"kind\":\"Any\",\"default\":null},{\"name\":\"duration\",\"kind\":\"Any\",\"default\":3000},{\"name\":\"icon\",\"kind\":\"Any\",\"default\":null},{\"name\":\"message\",\"kind\":\"Any\",\"default\":\"\"},{\"name\":\"notification_type\",\"kind\":\"Any\",\"default\":null},{\"name\":\"_destroyed\",\"kind\":\"Any\",\"default\":false}]},{\"type\":\"model\",\"name\":\"TemplateActions1\",\"properties\":[{\"name\":\"open_modal\",\"kind\":\"Any\",\"default\":0},{\"name\":\"close_modal\",\"kind\":\"Any\",\"default\":0}]},{\"type\":\"model\",\"name\":\"BootstrapTemplateActions1\",\"properties\":[{\"name\":\"open_modal\",\"kind\":\"Any\",\"default\":0},{\"name\":\"close_modal\",\"kind\":\"Any\",\"default\":0}]},{\"type\":\"model\",\"name\":\"TemplateEditor1\",\"properties\":[{\"name\":\"layout\",\"kind\":\"Any\",\"default\":[]}]},{\"type\":\"model\",\"name\":\"MaterialTemplateActions1\",\"properties\":[{\"name\":\"open_modal\",\"kind\":\"Any\",\"default\":0},{\"name\":\"close_modal\",\"kind\":\"Any\",\"default\":0}]},{\"type\":\"model\",\"name\":\"copy_to_clipboard1\",\"properties\":[{\"name\":\"fill\",\"kind\":\"Any\",\"default\":\"none\"},{\"name\":\"value\",\"kind\":\"Any\",\"default\":null}]}]}};\n",
       "  var render_items = [{\"docid\":\"033f8c14-af7b-415f-ae9a-842cf7df5501\",\"roots\":{\"4e6698ef-15ab-44ea-b310-63dbd064546b\":\"c434ecc7-59c0-4077-b0e7-a9e64f2b270b\"},\"root_ids\":[\"4e6698ef-15ab-44ea-b310-63dbd064546b\"]}];\n",
       "  var docs = Object.values(docs_json)\n",
       "  if (!docs) {\n",
       "    return\n",
       "  }\n",
       "  const py_version = docs[0].version.replace('rc', '-rc.').replace('.dev', '-dev.')\n",
       "  async function embed_document(root) {\n",
       "    var Bokeh = get_bokeh(root)\n",
       "    await Bokeh.embed.embed_items_notebook(docs_json, render_items);\n",
       "    for (const render_item of render_items) {\n",
       "      for (const root_id of render_item.root_ids) {\n",
       "\tconst id_el = document.getElementById(root_id)\n",
       "\tif (id_el.children.length && id_el.children[0].hasAttribute('data-root-id')) {\n",
       "\t  const root_el = id_el.children[0]\n",
       "\t  root_el.id = root_el.id + '-rendered'\n",
       "\t  for (const child of root_el.children) {\n",
       "            // Ensure JupyterLab does not capture keyboard shortcuts\n",
       "            // see: https://jupyterlab.readthedocs.io/en/4.1.x/extension/notebook.html#keyboard-interaction-model\n",
       "\t    child.setAttribute('data-lm-suppress-shortcuts', 'true')\n",
       "\t  }\n",
       "\t}\n",
       "      }\n",
       "    }\n",
       "  }\n",
       "  function get_bokeh(root) {\n",
       "    if (root.Bokeh === undefined) {\n",
       "      return null\n",
       "    } else if (root.Bokeh.version !== py_version) {\n",
       "      if (root.Bokeh.versions === undefined || !root.Bokeh.versions.has(py_version)) {\n",
       "\treturn null\n",
       "      }\n",
       "      return root.Bokeh.versions.get(py_version);\n",
       "    } else if (root.Bokeh.version === py_version) {\n",
       "      return root.Bokeh\n",
       "    }\n",
       "    return null\n",
       "  }\n",
       "  function is_loaded(root) {\n",
       "    var Bokeh = get_bokeh(root)\n",
       "    return (Bokeh != null && Bokeh.Panel !== undefined)\n",
       "  }\n",
       "  if (is_loaded(root)) {\n",
       "    embed_document(root);\n",
       "  } else {\n",
       "    var attempts = 0;\n",
       "    var timer = setInterval(function(root) {\n",
       "      if (is_loaded(root)) {\n",
       "        clearInterval(timer);\n",
       "        embed_document(root);\n",
       "      } else if (document.readyState == \"complete\") {\n",
       "        attempts++;\n",
       "        if (attempts > 200) {\n",
       "          clearInterval(timer);\n",
       "\t  var Bokeh = get_bokeh(root)\n",
       "\t  if (Bokeh == null || Bokeh.Panel == null) {\n",
       "            console.warn(\"Panel: ERROR: Unable to run Panel code because Bokeh or Panel library is missing\");\n",
       "\t  } else {\n",
       "\t    console.warn(\"Panel: WARNING: Attempting to render but not all required libraries could be resolved.\")\n",
       "\t    embed_document(root)\n",
       "\t  }\n",
       "        }\n",
       "      }\n",
       "    }, 25, root)\n",
       "  }\n",
       "})(window);</script>"
      ]
     },
     "metadata": {
      "application/vnd.holoviews_exec.v0+json": {
       "id": "4e6698ef-15ab-44ea-b310-63dbd064546b"
      }
     },
     "output_type": "display_data"
    }
   ],
   "source": [
    "import matplotlib.pyplot as plt\n",
    "import seaborn as sns\n",
    "import hvplot.polars"
   ]
  },
  {
   "cell_type": "code",
   "execution_count": 7,
   "metadata": {},
   "outputs": [
    {
     "data": {
      "text/html": [
       "\n",
       "<style>\n",
       "  #altair-viz-9af7b425a31c4f0ab96c89f5a96b03dd.vega-embed {\n",
       "    width: 100%;\n",
       "    display: flex;\n",
       "  }\n",
       "\n",
       "  #altair-viz-9af7b425a31c4f0ab96c89f5a96b03dd.vega-embed details,\n",
       "  #altair-viz-9af7b425a31c4f0ab96c89f5a96b03dd.vega-embed details summary {\n",
       "    position: relative;\n",
       "  }\n",
       "</style>\n",
       "<div id=\"altair-viz-9af7b425a31c4f0ab96c89f5a96b03dd\"></div>\n",
       "<script type=\"text/javascript\">\n",
       "  var VEGA_DEBUG = (typeof VEGA_DEBUG == \"undefined\") ? {} : VEGA_DEBUG;\n",
       "  (function(spec, embedOpt){\n",
       "    let outputDiv = document.currentScript.previousElementSibling;\n",
       "    if (outputDiv.id !== \"altair-viz-9af7b425a31c4f0ab96c89f5a96b03dd\") {\n",
       "      outputDiv = document.getElementById(\"altair-viz-9af7b425a31c4f0ab96c89f5a96b03dd\");\n",
       "    }\n",
       "    const paths = {\n",
       "      \"vega\": \"https://cdn.jsdelivr.net/npm/vega@5?noext\",\n",
       "      \"vega-lib\": \"https://cdn.jsdelivr.net/npm/vega-lib?noext\",\n",
       "      \"vega-lite\": \"https://cdn.jsdelivr.net/npm/vega-lite@5.20.1?noext\",\n",
       "      \"vega-embed\": \"https://cdn.jsdelivr.net/npm/vega-embed@6?noext\",\n",
       "    };\n",
       "\n",
       "    function maybeLoadScript(lib, version) {\n",
       "      var key = `${lib.replace(\"-\", \"\")}_version`;\n",
       "      return (VEGA_DEBUG[key] == version) ?\n",
       "        Promise.resolve(paths[lib]) :\n",
       "        new Promise(function(resolve, reject) {\n",
       "          var s = document.createElement('script');\n",
       "          document.getElementsByTagName(\"head\")[0].appendChild(s);\n",
       "          s.async = true;\n",
       "          s.onload = () => {\n",
       "            VEGA_DEBUG[key] = version;\n",
       "            return resolve(paths[lib]);\n",
       "          };\n",
       "          s.onerror = () => reject(`Error loading script: ${paths[lib]}`);\n",
       "          s.src = paths[lib];\n",
       "        });\n",
       "    }\n",
       "\n",
       "    function showError(err) {\n",
       "      outputDiv.innerHTML = `<div class=\"error\" style=\"color:red;\">${err}</div>`;\n",
       "      throw err;\n",
       "    }\n",
       "\n",
       "    function displayChart(vegaEmbed) {\n",
       "      vegaEmbed(outputDiv, spec, embedOpt)\n",
       "        .catch(err => showError(`Javascript Error: ${err.message}<br>This usually means there's a typo in your chart specification. See the javascript console for the full traceback.`));\n",
       "    }\n",
       "\n",
       "    if(typeof define === \"function\" && define.amd) {\n",
       "      requirejs.config({paths});\n",
       "      require([\"vega-embed\"], displayChart, err => showError(`Error loading script: ${err.message}`));\n",
       "    } else {\n",
       "      maybeLoadScript(\"vega\", \"5\")\n",
       "        .then(() => maybeLoadScript(\"vega-lite\", \"5.20.1\"))\n",
       "        .then(() => maybeLoadScript(\"vega-embed\", \"6\"))\n",
       "        .catch(showError)\n",
       "        .then(() => displayChart(vegaEmbed));\n",
       "    }\n",
       "  })({\"config\": {\"view\": {\"continuousWidth\": 300, \"continuousHeight\": 300}}, \"data\": {\"name\": \"data-abfdbb00ab1b48ff60756da52c841e1f\"}, \"mark\": {\"type\": \"line\"}, \"encoding\": {\"tooltip\": [{\"field\": \"Waktu\", \"type\": \"temporal\"}, {\"field\": \"Pembeli\", \"type\": \"quantitative\"}], \"x\": {\"field\": \"Waktu\", \"type\": \"temporal\"}, \"y\": {\"field\": \"Pembeli\", \"type\": \"quantitative\"}}, \"params\": [{\"name\": \"param_1\", \"select\": {\"type\": \"interval\", \"encodings\": [\"x\", \"y\"]}, \"bind\": \"scales\"}], \"$schema\": \"https://vega.github.io/schema/vega-lite/v5.20.1.json\", \"datasets\": {\"data-abfdbb00ab1b48ff60756da52c841e1f\": [{\"Waktu\": \"2024-10-01T00:00:00\", \"Pembeli\": 959, \"Laki-Laki\": 557, \"Perempuan\": 122, \"Tidak disebutkan\": 280, \"Pembeli baru\": 751, \"Pembeli reguler\": 149, \"Pembeli setia\": 59, \"< 17 tahun\": 4, \"18 - 23 tahun\": 65, \"24 - 34 tahun\": 426, \"35 - 44 tahun\": 199, \"> 45 tahun\": 103, \"Followers\": 43753}, {\"Waktu\": \"2024-10-02T00:00:00\", \"Pembeli\": 899, \"Laki-Laki\": 532, \"Perempuan\": 119, \"Tidak disebutkan\": 248, \"Pembeli baru\": 704, \"Pembeli reguler\": 140, \"Pembeli setia\": 55, \"< 17 tahun\": 2, \"18 - 23 tahun\": 68, \"24 - 34 tahun\": 389, \"35 - 44 tahun\": 177, \"> 45 tahun\": 114, \"Followers\": 43846}, {\"Waktu\": \"2024-10-03T00:00:00\", \"Pembeli\": 759, \"Laki-Laki\": 454, \"Perempuan\": 78, \"Tidak disebutkan\": 227, \"Pembeli baru\": 572, \"Pembeli reguler\": 136, \"Pembeli setia\": 51, \"< 17 tahun\": 2, \"18 - 23 tahun\": 59, \"24 - 34 tahun\": 322, \"35 - 44 tahun\": 137, \"> 45 tahun\": 99, \"Followers\": 43939}, {\"Waktu\": \"2024-10-04T00:00:00\", \"Pembeli\": 707, \"Laki-Laki\": 436, \"Perempuan\": 87, \"Tidak disebutkan\": 184, \"Pembeli baru\": 540, \"Pembeli reguler\": 116, \"Pembeli setia\": 51, \"< 17 tahun\": 3, \"18 - 23 tahun\": 49, \"24 - 34 tahun\": 298, \"35 - 44 tahun\": 159, \"> 45 tahun\": 88, \"Followers\": 44012}, {\"Waktu\": \"2024-10-05T00:00:00\", \"Pembeli\": 528, \"Laki-Laki\": 311, \"Perempuan\": 49, \"Tidak disebutkan\": 168, \"Pembeli baru\": 409, \"Pembeli reguler\": 90, \"Pembeli setia\": 29, \"< 17 tahun\": 2, \"18 - 23 tahun\": 42, \"24 - 34 tahun\": 203, \"35 - 44 tahun\": 109, \"> 45 tahun\": 83, \"Followers\": 44070}, {\"Waktu\": \"2024-10-06T00:00:00\", \"Pembeli\": 564, \"Laki-Laki\": 326, \"Perempuan\": 71, \"Tidak disebutkan\": 167, \"Pembeli baru\": 446, \"Pembeli reguler\": 86, \"Pembeli setia\": 32, \"< 17 tahun\": 0, \"18 - 23 tahun\": 44, \"24 - 34 tahun\": 251, \"35 - 44 tahun\": 93, \"> 45 tahun\": 72, \"Followers\": 44153}, {\"Waktu\": \"2024-10-07T00:00:00\", \"Pembeli\": 807, \"Laki-Laki\": 491, \"Perempuan\": 87, \"Tidak disebutkan\": 229, \"Pembeli baru\": 626, \"Pembeli reguler\": 137, \"Pembeli setia\": 44, \"< 17 tahun\": 2, \"18 - 23 tahun\": 54, \"24 - 34 tahun\": 357, \"35 - 44 tahun\": 144, \"> 45 tahun\": 110, \"Followers\": 44237}, {\"Waktu\": \"2024-10-08T00:00:00\", \"Pembeli\": 785, \"Laki-Laki\": 462, \"Perempuan\": 107, \"Tidak disebutkan\": 216, \"Pembeli baru\": 598, \"Pembeli reguler\": 133, \"Pembeli setia\": 54, \"< 17 tahun\": 5, \"18 - 23 tahun\": 53, \"24 - 34 tahun\": 349, \"35 - 44 tahun\": 159, \"> 45 tahun\": 90, \"Followers\": 44323}, {\"Waktu\": \"2024-10-09T00:00:00\", \"Pembeli\": 848, \"Laki-Laki\": 522, \"Perempuan\": 101, \"Tidak disebutkan\": 225, \"Pembeli baru\": 648, \"Pembeli reguler\": 125, \"Pembeli setia\": 75, \"< 17 tahun\": 2, \"18 - 23 tahun\": 62, \"24 - 34 tahun\": 364, \"35 - 44 tahun\": 157, \"> 45 tahun\": 105, \"Followers\": 44429}, {\"Waktu\": \"2024-10-10T00:00:00\", \"Pembeli\": 1563, \"Laki-Laki\": 841, \"Perempuan\": 209, \"Tidak disebutkan\": 513, \"Pembeli baru\": 1270, \"Pembeli reguler\": 190, \"Pembeli setia\": 103, \"< 17 tahun\": 4, \"18 - 23 tahun\": 122, \"24 - 34 tahun\": 642, \"35 - 44 tahun\": 256, \"> 45 tahun\": 202, \"Followers\": 44606}, {\"Waktu\": \"2024-10-11T00:00:00\", \"Pembeli\": 731, \"Laki-Laki\": 442, \"Perempuan\": 93, \"Tidak disebutkan\": 196, \"Pembeli baru\": 554, \"Pembeli reguler\": 123, \"Pembeli setia\": 54, \"< 17 tahun\": 5, \"18 - 23 tahun\": 50, \"24 - 34 tahun\": 315, \"35 - 44 tahun\": 143, \"> 45 tahun\": 99, \"Followers\": 44704}, {\"Waktu\": \"2024-10-12T00:00:00\", \"Pembeli\": 597, \"Laki-Laki\": 350, \"Perempuan\": 80, \"Tidak disebutkan\": 167, \"Pembeli baru\": 472, \"Pembeli reguler\": 87, \"Pembeli setia\": 38, \"< 17 tahun\": 1, \"18 - 23 tahun\": 50, \"24 - 34 tahun\": 242, \"35 - 44 tahun\": 127, \"> 45 tahun\": 76, \"Followers\": 44789}, {\"Waktu\": \"2024-10-13T00:00:00\", \"Pembeli\": 630, \"Laki-Laki\": 377, \"Perempuan\": 80, \"Tidak disebutkan\": 173, \"Pembeli baru\": 470, \"Pembeli reguler\": 120, \"Pembeli setia\": 40, \"< 17 tahun\": 3, \"18 - 23 tahun\": 46, \"24 - 34 tahun\": 261, \"35 - 44 tahun\": 137, \"> 45 tahun\": 92, \"Followers\": 44859}, {\"Waktu\": \"2024-10-14T00:00:00\", \"Pembeli\": 714, \"Laki-Laki\": 456, \"Perempuan\": 73, \"Tidak disebutkan\": 185, \"Pembeli baru\": 545, \"Pembeli reguler\": 123, \"Pembeli setia\": 46, \"< 17 tahun\": 0, \"18 - 23 tahun\": 49, \"24 - 34 tahun\": 310, \"35 - 44 tahun\": 147, \"> 45 tahun\": 93, \"Followers\": 44965}, {\"Waktu\": \"2024-10-15T00:00:00\", \"Pembeli\": 678, \"Laki-Laki\": 424, \"Perempuan\": 84, \"Tidak disebutkan\": 170, \"Pembeli baru\": 510, \"Pembeli reguler\": 125, \"Pembeli setia\": 43, \"< 17 tahun\": 1, \"18 - 23 tahun\": 50, \"24 - 34 tahun\": 286, \"35 - 44 tahun\": 146, \"> 45 tahun\": 87, \"Followers\": 45045}, {\"Waktu\": \"2024-10-16T00:00:00\", \"Pembeli\": 686, \"Laki-Laki\": 401, \"Perempuan\": 77, \"Tidak disebutkan\": 208, \"Pembeli baru\": 520, \"Pembeli reguler\": 104, \"Pembeli setia\": 62, \"< 17 tahun\": 3, \"18 - 23 tahun\": 44, \"24 - 34 tahun\": 279, \"35 - 44 tahun\": 143, \"> 45 tahun\": 99, \"Followers\": 45102}, {\"Waktu\": \"2024-10-17T00:00:00\", \"Pembeli\": 615, \"Laki-Laki\": 397, \"Perempuan\": 76, \"Tidak disebutkan\": 142, \"Pembeli baru\": 474, \"Pembeli reguler\": 99, \"Pembeli setia\": 42, \"< 17 tahun\": 3, \"18 - 23 tahun\": 44, \"24 - 34 tahun\": 265, \"35 - 44 tahun\": 125, \"> 45 tahun\": 94, \"Followers\": 45180}, {\"Waktu\": \"2024-10-18T00:00:00\", \"Pembeli\": 687, \"Laki-Laki\": 438, \"Perempuan\": 81, \"Tidak disebutkan\": 168, \"Pembeli baru\": 531, \"Pembeli reguler\": 99, \"Pembeli setia\": 57, \"< 17 tahun\": 5, \"18 - 23 tahun\": 36, \"24 - 34 tahun\": 305, \"35 - 44 tahun\": 149, \"> 45 tahun\": 87, \"Followers\": 45240}, {\"Waktu\": \"2024-10-19T00:00:00\", \"Pembeli\": 500, \"Laki-Laki\": 314, \"Perempuan\": 50, \"Tidak disebutkan\": 136, \"Pembeli baru\": 365, \"Pembeli reguler\": 93, \"Pembeli setia\": 42, \"< 17 tahun\": 2, \"18 - 23 tahun\": 31, \"24 - 34 tahun\": 202, \"35 - 44 tahun\": 113, \"> 45 tahun\": 73, \"Followers\": 45313}, {\"Waktu\": \"2024-10-20T00:00:00\", \"Pembeli\": 434, \"Laki-Laki\": 259, \"Perempuan\": 40, \"Tidak disebutkan\": 135, \"Pembeli baru\": 324, \"Pembeli reguler\": 74, \"Pembeli setia\": 36, \"< 17 tahun\": 2, \"18 - 23 tahun\": 28, \"24 - 34 tahun\": 177, \"35 - 44 tahun\": 82, \"> 45 tahun\": 70, \"Followers\": 45388}, {\"Waktu\": \"2024-10-21T00:00:00\", \"Pembeli\": 644, \"Laki-Laki\": 392, \"Perempuan\": 82, \"Tidak disebutkan\": 170, \"Pembeli baru\": 468, \"Pembeli reguler\": 133, \"Pembeli setia\": 43, \"< 17 tahun\": 4, \"18 - 23 tahun\": 57, \"24 - 34 tahun\": 263, \"35 - 44 tahun\": 130, \"> 45 tahun\": 91, \"Followers\": 45465}, {\"Waktu\": \"2024-10-22T00:00:00\", \"Pembeli\": 617, \"Laki-Laki\": 385, \"Perempuan\": 71, \"Tidak disebutkan\": 161, \"Pembeli baru\": 455, \"Pembeli reguler\": 112, \"Pembeli setia\": 50, \"< 17 tahun\": 1, \"18 - 23 tahun\": 27, \"24 - 34 tahun\": 250, \"35 - 44 tahun\": 136, \"> 45 tahun\": 101, \"Followers\": 45528}, {\"Waktu\": \"2024-10-23T00:00:00\", \"Pembeli\": 543, \"Laki-Laki\": 345, \"Perempuan\": 69, \"Tidak disebutkan\": 129, \"Pembeli baru\": 376, \"Pembeli reguler\": 124, \"Pembeli setia\": 43, \"< 17 tahun\": 2, \"18 - 23 tahun\": 37, \"24 - 34 tahun\": 229, \"35 - 44 tahun\": 121, \"> 45 tahun\": 67, \"Followers\": 45589}, {\"Waktu\": \"2024-10-24T00:00:00\", \"Pembeli\": 569, \"Laki-Laki\": 353, \"Perempuan\": 73, \"Tidak disebutkan\": 143, \"Pembeli baru\": 416, \"Pembeli reguler\": 97, \"Pembeli setia\": 56, \"< 17 tahun\": 1, \"18 - 23 tahun\": 37, \"24 - 34 tahun\": 230, \"35 - 44 tahun\": 132, \"> 45 tahun\": 79, \"Followers\": 45655}, {\"Waktu\": \"2024-10-25T00:00:00\", \"Pembeli\": 732, \"Laki-Laki\": 432, \"Perempuan\": 100, \"Tidak disebutkan\": 200, \"Pembeli baru\": 571, \"Pembeli reguler\": 108, \"Pembeli setia\": 53, \"< 17 tahun\": 3, \"18 - 23 tahun\": 61, \"24 - 34 tahun\": 322, \"35 - 44 tahun\": 134, \"> 45 tahun\": 96, \"Followers\": 45734}, {\"Waktu\": \"2024-10-26T00:00:00\", \"Pembeli\": 578, \"Laki-Laki\": 350, \"Perempuan\": 70, \"Tidak disebutkan\": 158, \"Pembeli baru\": 450, \"Pembeli reguler\": 83, \"Pembeli setia\": 45, \"< 17 tahun\": 4, \"18 - 23 tahun\": 46, \"24 - 34 tahun\": 260, \"35 - 44 tahun\": 113, \"> 45 tahun\": 66, \"Followers\": 45825}, {\"Waktu\": \"2024-10-27T00:00:00\", \"Pembeli\": 484, \"Laki-Laki\": 310, \"Perempuan\": 48, \"Tidak disebutkan\": 126, \"Pembeli baru\": 383, \"Pembeli reguler\": 66, \"Pembeli setia\": 35, \"< 17 tahun\": 4, \"18 - 23 tahun\": 33, \"24 - 34 tahun\": 215, \"35 - 44 tahun\": 99, \"> 45 tahun\": 56, \"Followers\": 45879}, {\"Waktu\": \"2024-10-28T00:00:00\", \"Pembeli\": 703, \"Laki-Laki\": 444, \"Perempuan\": 66, \"Tidak disebutkan\": 193, \"Pembeli baru\": 526, \"Pembeli reguler\": 125, \"Pembeli setia\": 52, \"< 17 tahun\": 2, \"18 - 23 tahun\": 37, \"24 - 34 tahun\": 318, \"35 - 44 tahun\": 145, \"> 45 tahun\": 81, \"Followers\": 45964}, {\"Waktu\": \"2024-10-29T00:00:00\", \"Pembeli\": 744, \"Laki-Laki\": 449, \"Perempuan\": 88, \"Tidak disebutkan\": 207, \"Pembeli baru\": 541, \"Pembeli reguler\": 142, \"Pembeli setia\": 61, \"< 17 tahun\": 1, \"18 - 23 tahun\": 55, \"24 - 34 tahun\": 330, \"35 - 44 tahun\": 132, \"> 45 tahun\": 98, \"Followers\": 46035}, {\"Waktu\": \"2024-10-30T00:00:00\", \"Pembeli\": 604, \"Laki-Laki\": 349, \"Perempuan\": 82, \"Tidak disebutkan\": 173, \"Pembeli baru\": 458, \"Pembeli reguler\": 101, \"Pembeli setia\": 45, \"< 17 tahun\": 3, \"18 - 23 tahun\": 47, \"24 - 34 tahun\": 244, \"35 - 44 tahun\": 122, \"> 45 tahun\": 80, \"Followers\": 46107}, {\"Waktu\": \"2024-10-31T00:00:00\", \"Pembeli\": 595, \"Laki-Laki\": 379, \"Perempuan\": 69, \"Tidak disebutkan\": 147, \"Pembeli baru\": 446, \"Pembeli reguler\": 106, \"Pembeli setia\": 43, \"< 17 tahun\": 3, \"18 - 23 tahun\": 32, \"24 - 34 tahun\": 275, \"35 - 44 tahun\": 125, \"> 45 tahun\": 71, \"Followers\": 46168}]}}, {\"mode\": \"vega-lite\"});\n",
       "</script>"
      ],
      "text/plain": [
       "alt.Chart(...)"
      ]
     },
     "execution_count": 7,
     "metadata": {},
     "output_type": "execute_result"
    }
   ],
   "source": [
    "harian.plot.line(x='Waktu',y='Pembeli')"
   ]
  },
  {
   "cell_type": "code",
   "execution_count": 8,
   "metadata": {},
   "outputs": [
    {
     "data": {
      "text/html": [
       "<div><style>\n",
       ".dataframe > thead > tr,\n",
       ".dataframe > tbody > tr {\n",
       "  text-align: right;\n",
       "  white-space: pre-wrap;\n",
       "}\n",
       "</style>\n",
       "<small>shape: (328, 6)</small><table border=\"1\" class=\"dataframe\"><thead><tr><th>Kota</th><th>Pembeli</th><th>Pesanan</th><th>Barang</th><th>Nilai Pesanan</th><th>% Nilai Pesanan</th></tr><tr><td>str</td><td>i64</td><td>i64</td><td>i64</td><td>i64</td><td>f64</td></tr></thead><tbody><tr><td>&quot;Jakarta Selatan&quot;</td><td>2142</td><td>2263</td><td>3137</td><td>466698000</td><td>0.118414</td></tr><tr><td>&quot;Jakarta Barat&quot;</td><td>1472</td><td>1561</td><td>2121</td><td>287796500</td><td>0.073022</td></tr><tr><td>&quot;Jakarta Pusat&quot;</td><td>1137</td><td>1217</td><td>1883</td><td>265567500</td><td>0.067381</td></tr><tr><td>&quot;Jakarta Timur&quot;</td><td>1203</td><td>1288</td><td>1670</td><td>227539500</td><td>0.057733</td></tr><tr><td>&quot;Jakarta Utara&quot;</td><td>1016</td><td>1073</td><td>1536</td><td>211189500</td><td>0.053584</td></tr><tr><td>&hellip;</td><td>&hellip;</td><td>&hellip;</td><td>&hellip;</td><td>&hellip;</td><td>&hellip;</td></tr><tr><td>&quot;Kab. Penukal Abab Lematang Ili…</td><td>1</td><td>1</td><td>1</td><td>75000</td><td>0.000019</td></tr><tr><td>&quot;Kab. Tanjung Jabung Timur&quot;</td><td>1</td><td>1</td><td>2</td><td>64000</td><td>0.000016</td></tr><tr><td>&quot;Kab. Bengkayang&quot;</td><td>1</td><td>1</td><td>1</td><td>60000</td><td>0.000015</td></tr><tr><td>&quot;Kab. Sarmi&quot;</td><td>1</td><td>1</td><td>1</td><td>50000</td><td>0.000013</td></tr><tr><td>&quot;Kab. Tanjung Jabung Barat&quot;</td><td>1</td><td>1</td><td>1</td><td>45000</td><td>0.000011</td></tr></tbody></table></div>"
      ],
      "text/plain": [
       "shape: (328, 6)\n",
       "┌─────────────────────────────────┬─────────┬─────────┬────────┬───────────────┬─────────────────┐\n",
       "│ Kota                            ┆ Pembeli ┆ Pesanan ┆ Barang ┆ Nilai Pesanan ┆ % Nilai Pesanan │\n",
       "│ ---                             ┆ ---     ┆ ---     ┆ ---    ┆ ---           ┆ ---             │\n",
       "│ str                             ┆ i64     ┆ i64     ┆ i64    ┆ i64           ┆ f64             │\n",
       "╞═════════════════════════════════╪═════════╪═════════╪════════╪═══════════════╪═════════════════╡\n",
       "│ Jakarta Selatan                 ┆ 2142    ┆ 2263    ┆ 3137   ┆ 466698000     ┆ 0.118414        │\n",
       "│ Jakarta Barat                   ┆ 1472    ┆ 1561    ┆ 2121   ┆ 287796500     ┆ 0.073022        │\n",
       "│ Jakarta Pusat                   ┆ 1137    ┆ 1217    ┆ 1883   ┆ 265567500     ┆ 0.067381        │\n",
       "│ Jakarta Timur                   ┆ 1203    ┆ 1288    ┆ 1670   ┆ 227539500     ┆ 0.057733        │\n",
       "│ Jakarta Utara                   ┆ 1016    ┆ 1073    ┆ 1536   ┆ 211189500     ┆ 0.053584        │\n",
       "│ …                               ┆ …       ┆ …       ┆ …      ┆ …             ┆ …               │\n",
       "│ Kab. Penukal Abab Lematang Ili… ┆ 1       ┆ 1       ┆ 1      ┆ 75000         ┆ 0.000019        │\n",
       "│ Kab. Tanjung Jabung Timur       ┆ 1       ┆ 1       ┆ 2      ┆ 64000         ┆ 0.000016        │\n",
       "│ Kab. Bengkayang                 ┆ 1       ┆ 1       ┆ 1      ┆ 60000         ┆ 0.000015        │\n",
       "│ Kab. Sarmi                      ┆ 1       ┆ 1       ┆ 1      ┆ 50000         ┆ 0.000013        │\n",
       "│ Kab. Tanjung Jabung Barat       ┆ 1       ┆ 1       ┆ 1      ┆ 45000         ┆ 0.000011        │\n",
       "└─────────────────────────────────┴─────────┴─────────┴────────┴───────────────┴─────────────────┘"
      ]
     },
     "execution_count": 8,
     "metadata": {},
     "output_type": "execute_result"
    }
   ],
   "source": [
    "kota = pl.read_excel(\n",
    "        source='Ugreen.xlsx',\n",
    "        sheet_name='Summary',\n",
    "        read_options=table2,\n",
    "        engine='calamine'\n",
    "    )\n",
    "\n",
    "nama_kolom = ('Kota','Pembeli','Pesanan','Barang','Nilai Pesanan','% Nilai Pesanan')\n",
    "kota = kota.drop(['Umur' , '_1'])\n",
    "for i, col in enumerate(kota.columns):\n",
    "    kota = kota.rename({col:nama_kolom[i]})\n",
    "\n",
    "kota\n"
   ]
  }
 ],
 "metadata": {
  "kernelspec": {
   "display_name": "data",
   "language": "python",
   "name": "python3"
  },
  "language_info": {
   "codemirror_mode": {
    "name": "ipython",
    "version": 3
   },
   "file_extension": ".py",
   "mimetype": "text/x-python",
   "name": "python",
   "nbconvert_exporter": "python",
   "pygments_lexer": "ipython3",
   "version": "3.9.19"
  }
 },
 "nbformat": 4,
 "nbformat_minor": 2
}
